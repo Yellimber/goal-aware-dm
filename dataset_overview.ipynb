{
 "cells": [
  {
   "cell_type": "code",
   "execution_count": 92,
   "metadata": {},
   "outputs": [],
   "source": [
    "from dataclasses import dataclass\n",
    "import pandas as pd\n",
    "from collections import Counter\n",
    "import matplotlib.pyplot as plt\n",
    "import tarfile\n",
    "import os\n",
    "import re\n",
    "import requests\n",
    "from bs4 import BeautifulSoup\n",
    "import csv\n",
    "import unittest\n",
    "import numpy as np\n",
    "%matplotlib inline"
   ]
  },
  {
   "attachments": {},
   "cell_type": "markdown",
   "metadata": {},
   "source": [
    "# Описания классов:"
   ]
  },
  {
   "cell_type": "code",
   "execution_count": 114,
   "metadata": {},
   "outputs": [],
   "source": [
    "@dataclass()\n",
    "class BaseGetData:\n",
    "    \"\"\"Базовый класс для загрузки и обзора данных из диалоговых корпусов в репозиториях NathanDuran. \n",
    "    Схемы разметки в каждом из корпусов основаны на таксономии SWBD-DAMSL.\"\"\"\n",
    "\n",
    "    datasetName: str\n",
    "    filePath: str\n",
    "    columns: list\n",
    "    df: pd.DataFrame\n",
    "\n",
    "    def __init__(self, datasetName: str, filePath: str):\n",
    "        self.datasetName = datasetName\n",
    "        self.columns = self._getColumns(self.datasetName)\n",
    "        self.filePath = filePath\n",
    "        self.df = pd.read_csv(self.filePath, names = self.columns, sep = '|')\n",
    "\n",
    "    def _getColumns(self, datasetName: str) -> list:\n",
    "        \"\"\"Определение колонок в таблице в зависимости от определения тегов.\"\"\"\n",
    "        return None\n",
    "    \n",
    "    def interpretData(self, n_lines: int):\n",
    "        \"\"\"Текстовая интерпретация данных из корпуса.\"\"\"\n",
    "        print(\"Unable to interpret this dataset\")\n",
    "    \n",
    "    def countStats(self) -> dict:\n",
    "        \"\"\"Подсчет статистики по корпусу.\"\"\"\n",
    "        if (len(self.columns) >= 3):\n",
    "            res = dict()\n",
    "            dialogueAmount = 0\n",
    "            path = ''\n",
    "            for i in [\"test\", \"train\", \"val\"]:\n",
    "                path = self.filePath[:self.filePath.rindex('\\\\') + 1] + i\n",
    "                dialogueAmount += len(os.listdir(path))\n",
    "            res[\"dialogues\"] = dialogueAmount\n",
    "            res[\"utterances\"] = len(self.df[\"utterance\"])\n",
    "            res[\"mean_dialogue_len\"] = res[\"utterances\"] / res[\"dialogues\"]\n",
    "            return res\n",
    "        else:\n",
    "            return None\n",
    "    \n",
    "    def tagDistribution(self):\n",
    "        \"\"\"Визуализация распределения тегов разметки в корпусе диалогов.\"\"\"\n",
    "        res = dict()\n",
    "        for i in self.columns[2:]:\n",
    "            res[i] = Counter(self.df[i])\n",
    "        for i in res.keys():\n",
    "            plt.figure(figsize=(15,8))\n",
    "            plt.title(i)\n",
    "            plt.bar(res[i].keys(), res[i].values())\n",
    "            plt.show()\n",
    "    \n",
    "    def _createTaxonomyCsv(self):\n",
    "        \"\"\"Создание csv-файла с таблицей, содержащей описания тегов разметки на основе данных из мануала SWBD-DAMSL.\"\"\"\n",
    "        page = requests.get(\"https://web.stanford.edu/~jurafsky/ws97/manual.august1.html\")\n",
    "        if (page.status_code != 200):\n",
    "            raise Exception(\"Website unavailable\")\n",
    "        soup = BeautifulSoup(page.text, \"html.parser\")\n",
    "        t = soup.find(\"table\")\n",
    "        k = 0\n",
    "        tmp = list()\n",
    "        s = ''\n",
    "        stringLines = str(t.find(\"tr\"))\n",
    "        stringLines = re.sub(\"&lt;\", '<', stringLines)\n",
    "        stringLines = re.sub(\"\\n\", '', stringLines)\n",
    "        stringLines = re.sub(\"(<\\/?\\w+>)\\s*(<\\/?\\w+>)?\\s*(<\\/?\\w+>)?\", '|', stringLines)\n",
    "        with open(os.getcwd() + \"\\\\taxonomy.csv\", 'w', encoding = \"utf-8\") as csvfile:\n",
    "            writer = csv.DictWriter(csvfile, fieldnames = [\"tag\", \"meaning\", \"example\", \"count\", '%'])\n",
    "            writer.writeheader()\n",
    "            for i in stringLines.split('|'):\n",
    "                if ((len(i) > 0) and (i != ' ')):\n",
    "                    if ((k % 5 == 0) and (k != 0)):\n",
    "                        s = re.sub('\\s*', '', tmp[1])\n",
    "                        if (s != \"SWBD\"):\n",
    "                            writer.writerow({\"tag\": s, \"meaning\": tmp[0], \"example\": tmp[2], \"count\": tmp[3], \"%\": tmp[4]})\n",
    "                        tmp = list()\n",
    "                    tmp.append(i)\n",
    "                    k += 1\n",
    "            writer.writerow({\"tag\": s, \"meaning\": tmp[0], \"example\": tmp[2], \"count\": tmp[3], \"%\": tmp[4]})\n",
    "\n",
    "    def tagsMeaning(self, tagText: str) -> dict:\n",
    "        \"\"\"Получение описания тега разметки из таблицы в мануале (сохраненном в csv-файл).\"\"\"\n",
    "        try:\n",
    "            if (\"taxonomy.csv\" not in os.listdir(os.getcwd())):\n",
    "                self._createTaxonomyCsv()\n",
    "        except Exception:\n",
    "            print(\"Извините, описание таксономии в настоящий момент недоступно.\")\n",
    "            return None\n",
    "        else:\n",
    "            with open(os.getcwd() + \"\\\\taxonomy.csv\", 'r', encoding = \"utf-8\") as csvfile:\n",
    "                reader = csv.DictReader(csvfile)\n",
    "                fldnms = reader.fieldnames\n",
    "                for row in reader:\n",
    "                    if (row[\"tag\"] == tagText):\n",
    "                        break\n",
    "                else:\n",
    "                    return None\n",
    "            return row"
   ]
  },
  {
   "cell_type": "code",
   "execution_count": 115,
   "metadata": {},
   "outputs": [],
   "source": [
    "class MRDACorpus(BaseGetData):\n",
    "    \"\"\"Класс для обзора диалогового корпуса MRDA из репозитория NathanDuran.\"\"\"\n",
    "    def _getColumns(self, datasetName: str) -> list:\n",
    "        \"\"\"Определение колонок в таблице в зависимости от определения тегов.\"\"\"\n",
    "        if (datasetName.lower() == \"mrda\"):\n",
    "            return [\"speaker\", \"utterance\", \"basic_tag\", \"general_tag\", \"full_tag\"]\n",
    "        else:\n",
    "            return None\n",
    "\n",
    "    def interpretData(self, n_lines: int):\n",
    "        \"\"\"Текстовая интерпретация данных из корпуса.\"\"\"\n",
    "        if (self.datasetName.lower() == \"mrda\"):\n",
    "            print(\"Tags should be read as follows:\")\n",
    "            print(\"general_tag ^ specific_tag . disruptive_form\")\n",
    "            for idx, row in self.df.iterrows():\n",
    "                print(\"{}: {} | {}^{}.{}\".format(row[\"speaker\"], row[\"utterance\"], row[\"general_tag\"], row[\"full_tag\"], row[\"basic_tag\"]))\n",
    "                if (idx == n_lines - 1):\n",
    "                    break\n",
    "        else:\n",
    "            print(\"Unable to interpret this dataset\")"
   ]
  },
  {
   "cell_type": "code",
   "execution_count": 116,
   "metadata": {},
   "outputs": [],
   "source": [
    "class SWDACorpus(BaseGetData):\n",
    "    \"\"\"Класс для обзора диалогового корпуса SWDA из репозитория NathanDuran.\"\"\"\n",
    "    def _getColumns(self, datasetName: str) -> list:\n",
    "        \"\"\"Определение колонок в таблице в зависимости от определения тегов.\"\"\"\n",
    "        if (datasetName.lower() == \"swda\"):\n",
    "            return [\"speaker\", \"utterance\", \"tag\"]\n",
    "        else:\n",
    "            return None\n",
    "\n",
    "    def interpretData(self, n_lines: int):\n",
    "        \"\"\"Текстовая интерпретация данных из корпуса.\"\"\"\n",
    "        if (self.datasetName.lower() == \"swda\"):\n",
    "            for idx, row in self.df.iterrows():\n",
    "                print(\"{}: {} | {}\".format(row[\"speaker\"], row[\"utterance\"], row[\"tag\"]))\n",
    "                if (idx == n_lines - 1):\n",
    "                    break\n",
    "        else:\n",
    "            print(\"Unable to interpret this dataset\")"
   ]
  },
  {
   "attachments": {},
   "cell_type": "markdown",
   "metadata": {},
   "source": [
    "# Exploring MRDA:"
   ]
  },
  {
   "cell_type": "code",
   "execution_count": 2,
   "metadata": {},
   "outputs": [
    {
     "name": "stderr",
     "output_type": "stream",
     "text": [
      "Cloning into 'MRDA-Corpus'...\n",
      "Updating files:  23% (60/259)\n",
      "Updating files:  24% (63/259)\n",
      "Updating files:  25% (65/259)\n",
      "Updating files:  26% (68/259)\n",
      "Updating files:  27% (70/259)\n",
      "Updating files:  28% (73/259)\n",
      "Updating files:  29% (76/259)\n",
      "Updating files:  30% (78/259)\n",
      "Updating files:  31% (81/259)\n",
      "Updating files:  32% (83/259)\n",
      "Updating files:  33% (86/259)\n",
      "Updating files:  34% (89/259)\n",
      "Updating files:  35% (91/259)\n",
      "Updating files:  36% (94/259)\n",
      "Updating files:  37% (96/259)\n",
      "Updating files:  38% (99/259)\n",
      "Updating files:  39% (102/259)\n",
      "Updating files:  40% (104/259)\n",
      "Updating files:  41% (107/259)\n",
      "Updating files:  42% (109/259)\n",
      "Updating files:  43% (112/259)\n",
      "Updating files:  43% (113/259)\n",
      "Updating files:  44% (114/259)\n",
      "Updating files:  45% (117/259)\n",
      "Updating files:  46% (120/259)\n",
      "Updating files:  47% (122/259)\n",
      "Updating files:  48% (125/259)\n",
      "Updating files:  49% (127/259)\n",
      "Updating files:  50% (130/259)\n",
      "Updating files:  51% (133/259)\n",
      "Updating files:  52% (135/259)\n",
      "Updating files:  53% (138/259)\n",
      "Updating files:  54% (140/259)\n",
      "Updating files:  55% (143/259)\n",
      "Updating files:  56% (146/259)\n",
      "Updating files:  57% (148/259)\n",
      "Updating files:  58% (151/259)\n",
      "Updating files:  59% (153/259)\n",
      "Updating files:  59% (154/259)\n",
      "Updating files:  60% (156/259)\n",
      "Updating files:  61% (158/259)\n",
      "Updating files:  62% (161/259)\n",
      "Updating files:  63% (164/259)\n",
      "Updating files:  64% (166/259)\n",
      "Updating files:  65% (169/259)\n",
      "Updating files:  66% (171/259)\n",
      "Updating files:  67% (174/259)\n",
      "Updating files:  68% (177/259)\n",
      "Updating files:  69% (179/259)\n",
      "Updating files:  70% (182/259)\n",
      "Updating files:  71% (184/259)\n",
      "Updating files:  72% (187/259)\n",
      "Updating files:  73% (190/259)\n",
      "Updating files:  74% (192/259)\n",
      "Updating files:  75% (195/259)\n",
      "Updating files:  76% (197/259)\n",
      "Updating files:  77% (200/259)\n",
      "Updating files:  78% (203/259)\n",
      "Updating files:  79% (205/259)\n",
      "Updating files:  80% (208/259)\n",
      "Updating files:  81% (210/259)\n",
      "Updating files:  82% (213/259)\n",
      "Updating files:  83% (215/259)\n",
      "Updating files:  84% (218/259)\n",
      "Updating files:  85% (221/259)\n",
      "Updating files:  86% (223/259)\n",
      "Updating files:  87% (226/259)\n",
      "Updating files:  88% (228/259)\n",
      "Updating files:  89% (231/259)\n",
      "Updating files:  90% (234/259)\n",
      "Updating files:  91% (236/259)\n",
      "Updating files:  92% (239/259)\n",
      "Updating files:  93% (241/259)\n",
      "Updating files:  94% (244/259)\n",
      "Updating files:  95% (247/259)\n",
      "Updating files:  96% (249/259)\n",
      "Updating files:  97% (252/259)\n",
      "Updating files:  98% (254/259)\n",
      "Updating files:  99% (257/259)\n",
      "Updating files: 100% (259/259)\n",
      "Updating files: 100% (259/259), done.\n"
     ]
    }
   ],
   "source": [
    "!git clone https://github.com/NathanDuran/MRDA-Corpus.git"
   ]
  },
  {
   "cell_type": "code",
   "execution_count": 117,
   "metadata": {},
   "outputs": [],
   "source": [
    "mrdaData = MRDACorpus(\"MRDA\", \"MRDA-Corpus\\\\mrda_data\\\\full_set.txt\")"
   ]
  },
  {
   "cell_type": "code",
   "execution_count": 118,
   "metadata": {},
   "outputs": [
    {
     "data": {
      "text/html": [
       "<div>\n",
       "<style scoped>\n",
       "    .dataframe tbody tr th:only-of-type {\n",
       "        vertical-align: middle;\n",
       "    }\n",
       "\n",
       "    .dataframe tbody tr th {\n",
       "        vertical-align: top;\n",
       "    }\n",
       "\n",
       "    .dataframe thead th {\n",
       "        text-align: right;\n",
       "    }\n",
       "</style>\n",
       "<table border=\"1\" class=\"dataframe\">\n",
       "  <thead>\n",
       "    <tr style=\"text-align: right;\">\n",
       "      <th></th>\n",
       "      <th>speaker</th>\n",
       "      <th>utterance</th>\n",
       "      <th>basic_tag</th>\n",
       "      <th>general_tag</th>\n",
       "      <th>full_tag</th>\n",
       "    </tr>\n",
       "  </thead>\n",
       "  <tbody>\n",
       "    <tr>\n",
       "      <th>0</th>\n",
       "      <td>fe016</td>\n",
       "      <td>okay.</td>\n",
       "      <td>F</td>\n",
       "      <td>fg</td>\n",
       "      <td>fg</td>\n",
       "    </tr>\n",
       "    <tr>\n",
       "      <th>1</th>\n",
       "      <td>fe016</td>\n",
       "      <td>so um</td>\n",
       "      <td>F</td>\n",
       "      <td>fh</td>\n",
       "      <td>fh</td>\n",
       "    </tr>\n",
       "    <tr>\n",
       "      <th>2</th>\n",
       "      <td>fe016</td>\n",
       "      <td>i was going to try to get out of here like in ...</td>\n",
       "      <td>S</td>\n",
       "      <td>s</td>\n",
       "      <td>rt</td>\n",
       "    </tr>\n",
       "    <tr>\n",
       "      <th>3</th>\n",
       "      <td>fe016</td>\n",
       "      <td>um</td>\n",
       "      <td>F</td>\n",
       "      <td>fh</td>\n",
       "      <td>fh</td>\n",
       "    </tr>\n",
       "    <tr>\n",
       "      <th>4</th>\n",
       "      <td>fe016</td>\n",
       "      <td>because i really appreciate people coming.</td>\n",
       "      <td>S</td>\n",
       "      <td>s</td>\n",
       "      <td>s</td>\n",
       "    </tr>\n",
       "  </tbody>\n",
       "</table>\n",
       "</div>"
      ],
      "text/plain": [
       "  speaker                                          utterance basic_tag  \\\n",
       "0   fe016                                              okay.         F   \n",
       "1   fe016                                              so um         F   \n",
       "2   fe016  i was going to try to get out of here like in ...         S   \n",
       "3   fe016                                                 um         F   \n",
       "4   fe016         because i really appreciate people coming.         S   \n",
       "\n",
       "  general_tag full_tag  \n",
       "0          fg       fg  \n",
       "1          fh       fh  \n",
       "2           s       rt  \n",
       "3          fh       fh  \n",
       "4           s        s  "
      ]
     },
     "execution_count": 118,
     "metadata": {},
     "output_type": "execute_result"
    }
   ],
   "source": [
    "mrdaData.df.head()"
   ]
  },
  {
   "cell_type": "code",
   "execution_count": 119,
   "metadata": {},
   "outputs": [
    {
     "name": "stdout",
     "output_type": "stream",
     "text": [
      "MRDACorpus(datasetName='MRDA', filePath='MRDA-Corpus\\\\mrda_data\\\\full_set.txt', columns=['speaker', 'utterance', 'basic_tag', 'general_tag', 'full_tag'], df=       speaker                                          utterance basic_tag  \\\n",
      "0        fe016                                              okay.         F   \n",
      "1        fe016                                              so um         F   \n",
      "2        fe016  i was going to try to get out of here like in ...         S   \n",
      "3        fe016                                                 um         F   \n",
      "4        fe016         because i really appreciate people coming.         S   \n",
      "...        ...                                                ...       ...   \n",
      "108197   fe041                                             great.         S   \n",
      "108198   me013                                             great.         S   \n",
      "108199   fe008  do we need do i need to turn something off her...         D   \n",
      "108200   me013                             now these we turn off.         S   \n",
      "108201   me013                                             right?         Q   \n",
      "\n",
      "       general_tag full_tag  \n",
      "0               fg       fg  \n",
      "1               fh       fh  \n",
      "2                s       rt  \n",
      "3               fh       fh  \n",
      "4                s        s  \n",
      "...            ...      ...  \n",
      "108197           s       ba  \n",
      "108198           s       ba  \n",
      "108199          qr       qr  \n",
      "108200           s       bu  \n",
      "108201          qy        d  \n",
      "\n",
      "[108202 rows x 5 columns])\n"
     ]
    }
   ],
   "source": [
    "print(mrdaData)"
   ]
  },
  {
   "cell_type": "code",
   "execution_count": 120,
   "metadata": {},
   "outputs": [
    {
     "name": "stdout",
     "output_type": "stream",
     "text": [
      "Tags should be read as follows:\n",
      "general_tag ^ specific_tag . disruptive_form\n",
      "fe016: okay. | fg^fg.F\n",
      "fe016: so um | fh^fh.F\n",
      "fe016: i was going to try to get out of here like in half an hour. | s^rt.S\n",
      "fe016: um | fh^fh.F\n",
      "fe016: because i really appreciate people coming. | s^s.S\n",
      "fe016: and the main thing that i was going to ask people to help with today is to give input on what kinds of database format we should use in starting to link up things like word transcripts and annotations of word transcripts. | s^s.S\n",
      "fe016: so anything that transcribers or discourse coders or whatever put in the signal with time marks for like words and phone boundaries and all the stuff we get out of the forced alignments and the recognizer. | s^e.S\n",
      "fe016: so we have this um | fh^fh.D\n",
      "fe016: i think a starting point is clearly the the channelized output of dave gelbart's program. | s^s.S\n",
      "fe016: which don brought a copy of. | s^e.S\n",
      "me011: yeah. | b^b.B\n",
      "me011: yeah i'm i'm familiar with that. | s^bk.S\n",
      "me011: i mean we i sort of already have developed an x.m.l. format for this sort of stuff. | s^s.S\n",
      "fe016: um | fh^fh.F\n",
      "fe016: which | %^%.D\n"
     ]
    }
   ],
   "source": [
    "mrdaData.interpretData(15)"
   ]
  },
  {
   "cell_type": "code",
   "execution_count": 121,
   "metadata": {},
   "outputs": [
    {
     "data": {
      "text/plain": [
       "{'dialogues': 75,\n",
       " 'utterances': 108202,\n",
       " 'mean_dialogue_len': 1442.6933333333334}"
      ]
     },
     "execution_count": 121,
     "metadata": {},
     "output_type": "execute_result"
    }
   ],
   "source": [
    "mrdaData.countStats()"
   ]
  },
  {
   "cell_type": "code",
   "execution_count": 122,
   "metadata": {},
   "outputs": [
    {
     "data": {
      "image/png": "[encoded data removed]",
      "text/plain": [
       "<Figure size 1500x800 with 1 Axes>"
      ]
     },
     "metadata": {},
     "output_type": "display_data"
    },
    {
     "data": {
      "image/png": "[encoded data removed]",
      "text/plain": [
       "<Figure size 1500x800 with 1 Axes>"
      ]
     },
     "metadata": {},
     "output_type": "display_data"
    },
    {
     "data": {
      "image/png": "[encoded data removed]",
      "text/plain": [
       "<Figure size 1500x800 with 1 Axes>"
      ]
     },
     "metadata": {},
     "output_type": "display_data"
    }
   ],
   "source": [
    "mrdaData.tagDistribution()"
   ]
  },
  {
   "cell_type": "code",
   "execution_count": 123,
   "metadata": {},
   "outputs": [
    {
     "data": {
      "text/plain": [
       "{'tag': 'b',\n",
       " 'meaning': 'Acknowledge (Backchannel) ',\n",
       " 'example': 'Uh-huh.',\n",
       " 'count': ' 37,096 ',\n",
       " '%': '19%'}"
      ]
     },
     "execution_count": 123,
     "metadata": {},
     "output_type": "execute_result"
    }
   ],
   "source": [
    "mrdaData.tagsMeaning(\"b\")"
   ]
  },
  {
   "attachments": {},
   "cell_type": "markdown",
   "metadata": {},
   "source": [
    "# Exploring SWDA:"
   ]
  },
  {
   "cell_type": "code",
   "execution_count": 41,
   "metadata": {},
   "outputs": [
    {
     "name": "stderr",
     "output_type": "stream",
     "text": [
      "fatal: destination path 'Switchboard-Corpus' already exists and is not an empty directory.\n"
     ]
    }
   ],
   "source": [
    "!git clone https://github.com/NathanDuran/Switchboard-Corpus.git"
   ]
  },
  {
   "cell_type": "code",
   "execution_count": 124,
   "metadata": {},
   "outputs": [],
   "source": [
    "swdaData = SWDACorpus(\"SWDA\", \"Switchboard-Corpus\\\\swda_data\\\\full_set.txt\")"
   ]
  },
  {
   "cell_type": "code",
   "execution_count": 125,
   "metadata": {},
   "outputs": [
    {
     "name": "stdout",
     "output_type": "stream",
     "text": [
      "SWDACorpus(datasetName='SWDA', filePath='Switchboard-Corpus\\\\swda_data\\\\full_set.txt', columns=['speaker', 'utterance', 'tag'], df=       speaker                                          utterance  \\\n",
      "0            A                                              Okay.   \n",
      "1            A  So, What kind of experience do you, do you hav...   \n",
      "2            B     I guess, I think, uh, I wonder if that worked.   \n",
      "3            A                             Does it say something?   \n",
      "4            B                           I think it usually does.   \n",
      "...        ...                                                ...   \n",
      "199731       B  and I know they've, there's a lot of refinerie...   \n",
      "199732       B  and that, that's some pretty potent stuff they...   \n",
      "199733       B             I, but I don't know how, uh, you know,   \n",
      "199734       B  there's a difference in what you can smell and...   \n",
      "199735       A  Be interesting to see when, as Mexico develops...   \n",
      "\n",
      "                    tag  \n",
      "0       fo_o_fw_\"_by_bc  \n",
      "1                    qw  \n",
      "2                  qy^d  \n",
      "3                    qy  \n",
      "4                    sd  \n",
      "...                 ...  \n",
      "199731               sd  \n",
      "199732               sv  \n",
      "199733               sd  \n",
      "199734               sv  \n",
      "199735               sv  \n",
      "\n",
      "[199736 rows x 3 columns])\n"
     ]
    }
   ],
   "source": [
    "print(swdaData)"
   ]
  },
  {
   "cell_type": "code",
   "execution_count": 126,
   "metadata": {},
   "outputs": [
    {
     "data": {
      "text/html": [
       "<div>\n",
       "<style scoped>\n",
       "    .dataframe tbody tr th:only-of-type {\n",
       "        vertical-align: middle;\n",
       "    }\n",
       "\n",
       "    .dataframe tbody tr th {\n",
       "        vertical-align: top;\n",
       "    }\n",
       "\n",
       "    .dataframe thead th {\n",
       "        text-align: right;\n",
       "    }\n",
       "</style>\n",
       "<table border=\"1\" class=\"dataframe\">\n",
       "  <thead>\n",
       "    <tr style=\"text-align: right;\">\n",
       "      <th></th>\n",
       "      <th>speaker</th>\n",
       "      <th>utterance</th>\n",
       "      <th>tag</th>\n",
       "    </tr>\n",
       "  </thead>\n",
       "  <tbody>\n",
       "    <tr>\n",
       "      <th>0</th>\n",
       "      <td>A</td>\n",
       "      <td>Okay.</td>\n",
       "      <td>fo_o_fw_\"_by_bc</td>\n",
       "    </tr>\n",
       "    <tr>\n",
       "      <th>1</th>\n",
       "      <td>A</td>\n",
       "      <td>So, What kind of experience do you, do you hav...</td>\n",
       "      <td>qw</td>\n",
       "    </tr>\n",
       "    <tr>\n",
       "      <th>2</th>\n",
       "      <td>B</td>\n",
       "      <td>I guess, I think, uh, I wonder if that worked.</td>\n",
       "      <td>qy^d</td>\n",
       "    </tr>\n",
       "    <tr>\n",
       "      <th>3</th>\n",
       "      <td>A</td>\n",
       "      <td>Does it say something?</td>\n",
       "      <td>qy</td>\n",
       "    </tr>\n",
       "    <tr>\n",
       "      <th>4</th>\n",
       "      <td>B</td>\n",
       "      <td>I think it usually does.</td>\n",
       "      <td>sd</td>\n",
       "    </tr>\n",
       "  </tbody>\n",
       "</table>\n",
       "</div>"
      ],
      "text/plain": [
       "  speaker                                          utterance              tag\n",
       "0       A                                              Okay.  fo_o_fw_\"_by_bc\n",
       "1       A  So, What kind of experience do you, do you hav...               qw\n",
       "2       B     I guess, I think, uh, I wonder if that worked.             qy^d\n",
       "3       A                             Does it say something?               qy\n",
       "4       B                           I think it usually does.               sd"
      ]
     },
     "execution_count": 126,
     "metadata": {},
     "output_type": "execute_result"
    }
   ],
   "source": [
    "swdaData.df.head()"
   ]
  },
  {
   "cell_type": "code",
   "execution_count": 127,
   "metadata": {},
   "outputs": [
    {
     "name": "stdout",
     "output_type": "stream",
     "text": [
      "A: Okay. | fo_o_fw_\"_by_bc\n",
      "A: So, What kind of experience do you, do you have, then with child care? | qw\n",
      "B: I guess, I think, uh, I wonder if that worked. | qy^d\n",
      "A: Does it say something? | qy\n",
      "B: I think it usually does. | sd\n",
      "B: You might try, uh, | ad\n",
      "B: I don't know, | h\n",
      "B: hold it down a little longer, | ad\n",
      "B: and see if it, uh, | ad\n",
      "A: Okay | aa\n",
      "A: Well, Does it usually make a recording or | qy\n",
      "B: Okay | b\n",
      "B: I, Well, I don't remember. | sd\n",
      "B: It seemed like it did, | sd\n",
      "B: but it might not. | sd\n"
     ]
    }
   ],
   "source": [
    "swdaData.interpretData(15)"
   ]
  },
  {
   "cell_type": "code",
   "execution_count": 128,
   "metadata": {},
   "outputs": [
    {
     "data": {
      "text/plain": [
       "{'dialogues': 1155,\n",
       " 'utterances': 199736,\n",
       " 'mean_dialogue_len': 172.93160173160175}"
      ]
     },
     "execution_count": 128,
     "metadata": {},
     "output_type": "execute_result"
    }
   ],
   "source": [
    "swdaData.countStats()"
   ]
  },
  {
   "cell_type": "code",
   "execution_count": 129,
   "metadata": {},
   "outputs": [
    {
     "data": {
      "image/png": "[encoded data removed]",
      "text/plain": [
       "<Figure size 1500x800 with 1 Axes>"
      ]
     },
     "metadata": {},
     "output_type": "display_data"
    }
   ],
   "source": [
    "swdaData.tagDistribution()"
   ]
  },
  {
   "cell_type": "code",
   "execution_count": 130,
   "metadata": {},
   "outputs": [
    {
     "data": {
      "text/plain": [
       "{'tag': 'sd',\n",
       " 'meaning': 'Statement-non-opinion',\n",
       " 'example': \" Me,  I'm in the legal department.\",\n",
       " 'count': '72,824 ',\n",
       " '%': '36%'}"
      ]
     },
     "execution_count": 130,
     "metadata": {},
     "output_type": "execute_result"
    }
   ],
   "source": [
    "swdaData.tagsMeaning(\"sd\")"
   ]
  },
  {
   "attachments": {},
   "cell_type": "markdown",
   "metadata": {},
   "source": [
    "# unittests:"
   ]
  },
  {
   "cell_type": "code",
   "execution_count": 136,
   "metadata": {},
   "outputs": [],
   "source": [
    "class TestDatasetClasses(unittest.TestCase):\n",
    "    def testInstances(self):\n",
    "        \"\"\"Проверка на то, являются ли mrdaData и swdaData экземплярами соотвествующих классов.\"\"\"\n",
    "        self.assertIsInstance(mrdaData, MRDACorpus)\n",
    "        self.assertNotIsInstance(mrdaData, SWDACorpus)\n",
    "        self.assertIsInstance(swdaData, SWDACorpus)\n",
    "        self.assertNotIsInstance(swdaData, MRDACorpus)\n",
    "        self.assertIsInstance(mrdaData, BaseGetData)\n",
    "        self.assertIsInstance(swdaData, BaseGetData)\n",
    "    \n",
    "    def testColumns(self):\n",
    "        \"\"\"Проверка на наличие названий колонок датафреймов.\"\"\"\n",
    "        self.assertIsNotNone(mrdaData.columns)\n",
    "        self.assertIsNotNone(swdaData.columns)\n",
    "    \n",
    "    def testCountStats(self):\n",
    "        \"\"\"Проверка того, считается ли статистика по корпусам.\"\"\"\n",
    "        self.assertIsNotNone(mrdaData.countStats)\n",
    "        self.assertIsNotNone(swdaData.countStats)\n",
    "\n",
    "    def testStatsResults(self):\n",
    "        \"\"\"Проверка правильности подсчета статистики по корпусам (числа взяты из описаний корпусов авторами).\"\"\"\n",
    "        self.assertEqual(mrdaData.countStats()[\"dialogues\"], 75)\n",
    "        self.assertEqual(mrdaData.countStats()[\"utterances\"], 108202)\n",
    "        self.assertEqual(np.round(mrdaData.countStats()[\"mean_dialogue_len\"], 1), 1442.7)\n",
    "        self.assertEqual(swdaData.countStats()[\"dialogues\"], 1155)\n",
    "        self.assertEqual(swdaData.countStats()[\"utterances\"], 199736)\n",
    "        self.assertEqual(np.round(swdaData.countStats()[\"mean_dialogue_len\"], 1), 172.9)\n",
    "    \n",
    "    def testTagsMeaning(self):\n",
    "        \"\"\"Проверка правильности работы функции с описанием таксономии.\"\"\"\n",
    "        self.assertIsNotNone(mrdaData.tagsMeaning(\"^h\"))\n",
    "        self.assertIsNone(mrdaData.tagsMeaning(\"aaa\"))"
   ]
  },
  {
   "cell_type": "code",
   "execution_count": 137,
   "metadata": {},
   "outputs": [
    {
     "name": "stderr",
     "output_type": "stream",
     "text": [
      "testColumns (__main__.TestDatasetClasses)\n",
      "Проверка на наличие названий колонок датафреймов. ... ok\n",
      "testCountStats (__main__.TestDatasetClasses)\n",
      "Проверка того, считается ли статистика по корпусам. ... ok\n",
      "testInstances (__main__.TestDatasetClasses)\n",
      "Проверка на то, являются ли mrdaData и swdaData экземплярами соотвествующих классов. ... ok\n",
      "testStatsResults (__main__.TestDatasetClasses)\n",
      "Проверка правильности подсчета статистики по корпусам (числа взяты из описаний корпусов авторами). ... ok\n",
      "testTagsMeaning (__main__.TestDatasetClasses)\n",
      "Проверка правильности работы функции с описанием таксономии. ... ok\n",
      "\n",
      "----------------------------------------------------------------------\n",
      "Ran 5 tests in 0.078s\n",
      "\n",
      "OK\n"
     ]
    },
    {
     "data": {
      "text/plain": [
       "<unittest.main.TestProgram at 0x16d329bfd90>"
      ]
     },
     "execution_count": 137,
     "metadata": {},
     "output_type": "execute_result"
    }
   ],
   "source": [
    "unittest.main(argv=[''], verbosity=2, exit=False)"
   ]
  }
 ],
 "metadata": {
  "kernelspec": {
   "display_name": "Python 3",
   "language": "python",
   "name": "python3"
  },
  "language_info": {
   "codemirror_mode": {
    "name": "ipython",
    "version": 3
   },
   "file_extension": ".py",
   "mimetype": "text/x-python",
   "name": "python",
   "nbconvert_exporter": "python",
   "pygments_lexer": "ipython3",
   "version": "3.8.10"
  },
  "orig_nbformat": 4,
  "vscode": {
   "interpreter": {
    "hash": "570feb405e2e27c949193ac68f46852414290d515b0ba6e5d90d076ed2284471"
   }
  }
 },
 "nbformat": 4,
 "nbformat_minor": 2
}
