{
  "nbformat": 4,
  "nbformat_minor": 0,
  "metadata": {
    "colab": {
      "provenance": []
    },
    "kernelspec": {
      "name": "python3",
      "display_name": "Python 3"
    },
    "language_info": {
      "name": "python"
    }
  },
  "cells": [
    {
      "cell_type": "code",
      "source": [
        "import pandas as pd\n",
        "from collections import Counter\n",
        "import matplotlib.pyplot as plt\n",
        "import tarfile\n",
        "import os\n",
        "import re"
      ],
      "metadata": {
        "id": "Q8ZKWXkSaQSD"
      },
      "execution_count": 74,
      "outputs": []
    },
    {
      "cell_type": "markdown",
      "source": [
        "# MRDA"
      ],
      "metadata": {
        "id": "gNPkqYWRKKRe"
      }
    },
    {
      "cell_type": "code",
      "source": [
        "!git clone https://github.com/NathanDuran/MRDA-Corpus.git"
      ],
      "metadata": {
        "colab": {
          "base_uri": "https://localhost:8080/"
        },
        "id": "-KZRXlzhKJ-9",
        "outputId": "5d47319b-55ac-4665-b443-c5284ee1216a"
      },
      "execution_count": 1,
      "outputs": [
        {
          "output_type": "stream",
          "name": "stdout",
          "text": [
            "Cloning into 'MRDA-Corpus'...\n",
            "remote: Enumerating objects: 854, done.\u001b[K\n",
            "remote: Counting objects: 100% (53/53), done.\u001b[K\n",
            "remote: Compressing objects: 100% (45/45), done.\u001b[K\n",
            "remote: Total 854 (delta 23), reused 35 (delta 6), pack-reused 801\u001b[K\n",
            "Receiving objects: 100% (854/854), 20.52 MiB | 8.45 MiB/s, done.\n",
            "Resolving deltas: 100% (557/557), done.\n"
          ]
        }
      ]
    },
    {
      "cell_type": "markdown",
      "source": [
        "В репозитории уже есть разделение данных на train, test, val сеты аналогично варианту авторов статьи. Беру full_text.txt"
      ],
      "metadata": {
        "id": "TdQBsfxZgrhJ"
      }
    },
    {
      "cell_type": "code",
      "execution_count": 12,
      "metadata": {
        "colab": {
          "base_uri": "https://localhost:8080/",
          "height": 424
        },
        "id": "0whxD58t6xEC",
        "outputId": "59266e79-27f1-4281-c67b-a0e300d83ff8"
      },
      "outputs": [
        {
          "output_type": "execute_result",
          "data": {
            "text/plain": [
              "       speaker                                          utterance  \\\n",
              "0        fe016                                              okay.   \n",
              "1        fe016                                              so um   \n",
              "2        fe016  i was going to try to get out of here like in ...   \n",
              "3        fe016                                                 um   \n",
              "4        fe016         because i really appreciate people coming.   \n",
              "...        ...                                                ...   \n",
              "108197   fe041                                             great.   \n",
              "108198   me013                                             great.   \n",
              "108199   fe008  do we need do i need to turn something off her...   \n",
              "108200   me013                             now these we turn off.   \n",
              "108201   me013                                             right?   \n",
              "\n",
              "       basic_DA_tag general_DA_tag full_DA_tag  \n",
              "0                 F             fg          fg  \n",
              "1                 F             fh          fh  \n",
              "2                 S              s          rt  \n",
              "3                 F             fh          fh  \n",
              "4                 S              s           s  \n",
              "...             ...            ...         ...  \n",
              "108197            S              s          ba  \n",
              "108198            S              s          ba  \n",
              "108199            D             qr          qr  \n",
              "108200            S              s          bu  \n",
              "108201            Q             qy           d  \n",
              "\n",
              "[108202 rows x 5 columns]"
            ],
            "text/html": [
              "\n",
              "  <div id=\"df-adc663be-3c8b-4591-a821-ddb0f04ff18d\">\n",
              "    <div class=\"colab-df-container\">\n",
              "      <div>\n",
              "<style scoped>\n",
              "    .dataframe tbody tr th:only-of-type {\n",
              "        vertical-align: middle;\n",
              "    }\n",
              "\n",
              "    .dataframe tbody tr th {\n",
              "        vertical-align: top;\n",
              "    }\n",
              "\n",
              "    .dataframe thead th {\n",
              "        text-align: right;\n",
              "    }\n",
              "</style>\n",
              "<table border=\"1\" class=\"dataframe\">\n",
              "  <thead>\n",
              "    <tr style=\"text-align: right;\">\n",
              "      <th></th>\n",
              "      <th>speaker</th>\n",
              "      <th>utterance</th>\n",
              "      <th>basic_DA_tag</th>\n",
              "      <th>general_DA_tag</th>\n",
              "      <th>full_DA_tag</th>\n",
              "    </tr>\n",
              "  </thead>\n",
              "  <tbody>\n",
              "    <tr>\n",
              "      <th>0</th>\n",
              "      <td>fe016</td>\n",
              "      <td>okay.</td>\n",
              "      <td>F</td>\n",
              "      <td>fg</td>\n",
              "      <td>fg</td>\n",
              "    </tr>\n",
              "    <tr>\n",
              "      <th>1</th>\n",
              "      <td>fe016</td>\n",
              "      <td>so um</td>\n",
              "      <td>F</td>\n",
              "      <td>fh</td>\n",
              "      <td>fh</td>\n",
              "    </tr>\n",
              "    <tr>\n",
              "      <th>2</th>\n",
              "      <td>fe016</td>\n",
              "      <td>i was going to try to get out of here like in ...</td>\n",
              "      <td>S</td>\n",
              "      <td>s</td>\n",
              "      <td>rt</td>\n",
              "    </tr>\n",
              "    <tr>\n",
              "      <th>3</th>\n",
              "      <td>fe016</td>\n",
              "      <td>um</td>\n",
              "      <td>F</td>\n",
              "      <td>fh</td>\n",
              "      <td>fh</td>\n",
              "    </tr>\n",
              "    <tr>\n",
              "      <th>4</th>\n",
              "      <td>fe016</td>\n",
              "      <td>because i really appreciate people coming.</td>\n",
              "      <td>S</td>\n",
              "      <td>s</td>\n",
              "      <td>s</td>\n",
              "    </tr>\n",
              "    <tr>\n",
              "      <th>...</th>\n",
              "      <td>...</td>\n",
              "      <td>...</td>\n",
              "      <td>...</td>\n",
              "      <td>...</td>\n",
              "      <td>...</td>\n",
              "    </tr>\n",
              "    <tr>\n",
              "      <th>108197</th>\n",
              "      <td>fe041</td>\n",
              "      <td>great.</td>\n",
              "      <td>S</td>\n",
              "      <td>s</td>\n",
              "      <td>ba</td>\n",
              "    </tr>\n",
              "    <tr>\n",
              "      <th>108198</th>\n",
              "      <td>me013</td>\n",
              "      <td>great.</td>\n",
              "      <td>S</td>\n",
              "      <td>s</td>\n",
              "      <td>ba</td>\n",
              "    </tr>\n",
              "    <tr>\n",
              "      <th>108199</th>\n",
              "      <td>fe008</td>\n",
              "      <td>do we need do i need to turn something off her...</td>\n",
              "      <td>D</td>\n",
              "      <td>qr</td>\n",
              "      <td>qr</td>\n",
              "    </tr>\n",
              "    <tr>\n",
              "      <th>108200</th>\n",
              "      <td>me013</td>\n",
              "      <td>now these we turn off.</td>\n",
              "      <td>S</td>\n",
              "      <td>s</td>\n",
              "      <td>bu</td>\n",
              "    </tr>\n",
              "    <tr>\n",
              "      <th>108201</th>\n",
              "      <td>me013</td>\n",
              "      <td>right?</td>\n",
              "      <td>Q</td>\n",
              "      <td>qy</td>\n",
              "      <td>d</td>\n",
              "    </tr>\n",
              "  </tbody>\n",
              "</table>\n",
              "<p>108202 rows × 5 columns</p>\n",
              "</div>\n",
              "      <button class=\"colab-df-convert\" onclick=\"convertToInteractive('df-adc663be-3c8b-4591-a821-ddb0f04ff18d')\"\n",
              "              title=\"Convert this dataframe to an interactive table.\"\n",
              "              style=\"display:none;\">\n",
              "        \n",
              "  <svg xmlns=\"http://www.w3.org/2000/svg\" height=\"24px\"viewBox=\"0 0 24 24\"\n",
              "       width=\"24px\">\n",
              "    <path d=\"M0 0h24v24H0V0z\" fill=\"none\"/>\n",
              "    <path d=\"M18.56 5.44l.94 2.06.94-2.06 2.06-.94-2.06-.94-.94-2.06-.94 2.06-2.06.94zm-11 1L8.5 8.5l.94-2.06 2.06-.94-2.06-.94L8.5 2.5l-.94 2.06-2.06.94zm10 10l.94 2.06.94-2.06 2.06-.94-2.06-.94-.94-2.06-.94 2.06-2.06.94z\"/><path d=\"M17.41 7.96l-1.37-1.37c-.4-.4-.92-.59-1.43-.59-.52 0-1.04.2-1.43.59L10.3 9.45l-7.72 7.72c-.78.78-.78 2.05 0 2.83L4 21.41c.39.39.9.59 1.41.59.51 0 1.02-.2 1.41-.59l7.78-7.78 2.81-2.81c.8-.78.8-2.07 0-2.86zM5.41 20L4 18.59l7.72-7.72 1.47 1.35L5.41 20z\"/>\n",
              "  </svg>\n",
              "      </button>\n",
              "      \n",
              "  <style>\n",
              "    .colab-df-container {\n",
              "      display:flex;\n",
              "      flex-wrap:wrap;\n",
              "      gap: 12px;\n",
              "    }\n",
              "\n",
              "    .colab-df-convert {\n",
              "      background-color: #E8F0FE;\n",
              "      border: none;\n",
              "      border-radius: 50%;\n",
              "      cursor: pointer;\n",
              "      display: none;\n",
              "      fill: #1967D2;\n",
              "      height: 32px;\n",
              "      padding: 0 0 0 0;\n",
              "      width: 32px;\n",
              "    }\n",
              "\n",
              "    .colab-df-convert:hover {\n",
              "      background-color: #E2EBFA;\n",
              "      box-shadow: 0px 1px 2px rgba(60, 64, 67, 0.3), 0px 1px 3px 1px rgba(60, 64, 67, 0.15);\n",
              "      fill: #174EA6;\n",
              "    }\n",
              "\n",
              "    [theme=dark] .colab-df-convert {\n",
              "      background-color: #3B4455;\n",
              "      fill: #D2E3FC;\n",
              "    }\n",
              "\n",
              "    [theme=dark] .colab-df-convert:hover {\n",
              "      background-color: #434B5C;\n",
              "      box-shadow: 0px 1px 3px 1px rgba(0, 0, 0, 0.15);\n",
              "      filter: drop-shadow(0px 1px 2px rgba(0, 0, 0, 0.3));\n",
              "      fill: #FFFFFF;\n",
              "    }\n",
              "  </style>\n",
              "\n",
              "      <script>\n",
              "        const buttonEl =\n",
              "          document.querySelector('#df-adc663be-3c8b-4591-a821-ddb0f04ff18d button.colab-df-convert');\n",
              "        buttonEl.style.display =\n",
              "          google.colab.kernel.accessAllowed ? 'block' : 'none';\n",
              "\n",
              "        async function convertToInteractive(key) {\n",
              "          const element = document.querySelector('#df-adc663be-3c8b-4591-a821-ddb0f04ff18d');\n",
              "          const dataTable =\n",
              "            await google.colab.kernel.invokeFunction('convertToInteractive',\n",
              "                                                     [key], {});\n",
              "          if (!dataTable) return;\n",
              "\n",
              "          const docLinkHtml = 'Like what you see? Visit the ' +\n",
              "            '<a target=\"_blank\" href=https://colab.research.google.com/notebooks/data_table.ipynb>data table notebook</a>'\n",
              "            + ' to learn more about interactive tables.';\n",
              "          element.innerHTML = '';\n",
              "          dataTable['output_type'] = 'display_data';\n",
              "          await google.colab.output.renderOutput(dataTable, element);\n",
              "          const docLink = document.createElement('div');\n",
              "          docLink.innerHTML = docLinkHtml;\n",
              "          element.appendChild(docLink);\n",
              "        }\n",
              "      </script>\n",
              "    </div>\n",
              "  </div>\n",
              "  "
            ]
          },
          "metadata": {},
          "execution_count": 12
        }
      ],
      "source": [
        "# названия колонок из readme.md\n",
        "columns = [\"speaker\", \"utterance\", \"basic_DA_tag\", \"general_DA_tag\", \"full_DA_tag\"]\n",
        "\n",
        "df = pd.read_csv(\"MRDA-Corpus/mrda_data/full_set.txt\", names = columns, sep = '|')\n",
        "df"
      ]
    },
    {
      "cell_type": "code",
      "source": [
        "# data in df should be read as follows:\n",
        "for idx, row in df.iterrows():\n",
        "    print(\"{}: {} | {}^{}.{}\".format(row[\"speaker\"], row[\"utterance\"], row[\"general_DA_tag\"], row[\"full_DA_tag\"], row[\"basic_DA_tag\"]))\n",
        "    if (idx == 15):\n",
        "        break\n",
        "\n",
        "# tags: general_tag ^ specific_tag . disruptive_form"
      ],
      "metadata": {
        "colab": {
          "base_uri": "https://localhost:8080/"
        },
        "id": "Avs09xeFaI74",
        "outputId": "8c05bce4-dcd7-4af6-d24a-16da2821f289"
      },
      "execution_count": 15,
      "outputs": [
        {
          "output_type": "stream",
          "name": "stdout",
          "text": [
            "fe016: okay. | fg^fg.F\n",
            "fe016: so um | fh^fh.F\n",
            "fe016: i was going to try to get out of here like in half an hour. | s^rt.S\n",
            "fe016: um | fh^fh.F\n",
            "fe016: because i really appreciate people coming. | s^s.S\n",
            "fe016: and the main thing that i was going to ask people to help with today is to give input on what kinds of database format we should use in starting to link up things like word transcripts and annotations of word transcripts. | s^s.S\n",
            "fe016: so anything that transcribers or discourse coders or whatever put in the signal with time marks for like words and phone boundaries and all the stuff we get out of the forced alignments and the recognizer. | s^e.S\n",
            "fe016: so we have this um | fh^fh.D\n",
            "fe016: i think a starting point is clearly the the channelized output of dave gelbart's program. | s^s.S\n",
            "fe016: which don brought a copy of. | s^e.S\n",
            "me011: yeah. | b^b.B\n",
            "me011: yeah i'm i'm familiar with that. | s^bk.S\n",
            "me011: i mean we i sort of already have developed an x.m.l. format for this sort of stuff. | s^s.S\n",
            "fe016: um | fh^fh.F\n",
            "fe016: which | %^%.D\n",
            "me018: can i see it? | qy^rt.Q\n"
          ]
        }
      ]
    },
    {
      "cell_type": "markdown",
      "source": [
        "Авторы датасета уже подсчитали количество диалогов и среднюю длину диалога и предоставили метаданные, а также скрипт в файле mrda_metadata.py"
      ],
      "metadata": {
        "id": "RwdS0Q8Komxo"
      }
    },
    {
      "cell_type": "markdown",
      "source": [
        "Общее количество диалогов: 75"
      ],
      "metadata": {
        "id": "gW1M0Qt3qCsU"
      }
    },
    {
      "cell_type": "markdown",
      "source": [
        "Средняя длина диалога: 1442.69 высказываний"
      ],
      "metadata": {
        "id": "Ag3LrEeyqgEj"
      }
    },
    {
      "cell_type": "code",
      "source": [
        "with open(\"MRDA-Corpus/mrda_data/metadata/metadata.txt\", 'r', encoding = \"utf-8\") as f:\n",
        "    for line in f:\n",
        "        print(line, end = '')"
      ],
      "metadata": {
        "colab": {
          "base_uri": "https://localhost:8080/"
        },
        "id": "TMV8gDhWoT15",
        "outputId": "bfffacfd-dcd9-4cc3-96db-f35a79cffcf3"
      },
      "execution_count": 17,
      "outputs": [
        {
          "output_type": "stream",
          "name": "stdout",
          "text": [
            "- Total number of utterances: 108202\n",
            "- Max utterance length: 85\n",
            "- Mean utterance length: 8.01\n",
            "- Total Number of dialogues: 75\n",
            "- Max dialogue length: 3391\n",
            "- Mean dialogue length: 1442.69\n",
            "- Vocabulary size: 10866\n",
            "- Number of basic labels: 5\n",
            "- Number of general labels: 12\n",
            "- Number of full labels: 52\n",
            "- Number of speakers: 52\n",
            "Train set\n",
            "- Number of dialogues: 51\n",
            "- Max dialogue length: 3391\n",
            "- Mean dialogue length: 1471.9\n",
            "- Number of utterances: 75067\n",
            "Test set\n",
            "- Number of dialogues: 12\n",
            "- Max dialogue length: 2028\n",
            "- Mean dialogue length: 1391.83\n",
            "- Number of utterances: 16702\n",
            "Val set\n",
            "- Number of dialogues: 12\n",
            "- Max dialogue length: 1969\n",
            "- Mean dialogue length: 1369.42\n",
            "- Number of utterances: 16433\n"
          ]
        }
      ]
    },
    {
      "cell_type": "markdown",
      "source": [
        "В диалогах обсуждается сбор данных для датасета и различные технические нюансы."
      ],
      "metadata": {
        "id": "0dyrrb0rsHov"
      }
    },
    {
      "cell_type": "markdown",
      "source": [
        "Так как данные собраны из устных бесед, то там достаточно много вставок по типу *um* и повторений слов в середине высказываний. Но стоит отметить, что высказывания, целиком состоящие из filler-words авторы датасета убрали."
      ],
      "metadata": {
        "id": "25APanl0sfdh"
      }
    },
    {
      "cell_type": "markdown",
      "source": [
        "Также единственные знаки препинания, которые присутствуют в данных - это ? ! . в конце фраз, однако большой вопрос, насколько это повлияет на качество перевода на русский язык."
      ],
      "metadata": {
        "id": "RFNkz3D3tAub"
      }
    },
    {
      "cell_type": "markdown",
      "source": [
        "В общем и целом, данные выглядят пригодными для автоматического перевода на русский язык."
      ],
      "metadata": {
        "id": "ihpKDXG4tNpb"
      }
    },
    {
      "cell_type": "markdown",
      "source": [
        "Далее, взглянем на распределение тегов"
      ],
      "metadata": {
        "id": "zo8uQ1mEw5z5"
      }
    },
    {
      "cell_type": "code",
      "source": [
        "c = Counter(df[\"basic_DA_tag\"])\n",
        "c"
      ],
      "metadata": {
        "colab": {
          "base_uri": "https://localhost:8080/"
        },
        "id": "yn-2g7ePw92P",
        "outputId": "b280f86a-72cc-46e2-b1f7-2623680538da"
      },
      "execution_count": 23,
      "outputs": [
        {
          "output_type": "execute_result",
          "data": {
            "text/plain": [
              "Counter({'F': 7818, 'S': 64233, 'D': 14548, 'B': 14620, 'Q': 6983})"
            ]
          },
          "metadata": {},
          "execution_count": 23
        }
      ]
    },
    {
      "cell_type": "code",
      "source": [
        "plt.title(\"Basic tags\")\n",
        "plt.bar(c.keys(), c.values())\n",
        "plt.show()"
      ],
      "metadata": {
        "colab": {
          "base_uri": "https://localhost:8080/",
          "height": 281
        },
        "id": "BD_rkB0ex8e7",
        "outputId": "12945e7a-723b-4fb8-dc69-850d2f4f3127"
      },
      "execution_count": 25,
      "outputs": [
        {
          "output_type": "display_data",
          "data": {
            "text/plain": [
              "<Figure size 432x288 with 1 Axes>"
            ],
            "image/png": "[encoded data removed]"
          },
          "metadata": {
            "needs_background": "light"
          }
        }
      ]
    },
    {
      "cell_type": "code",
      "source": [
        "c = Counter(df[\"general_DA_tag\"])\n",
        "c"
      ],
      "metadata": {
        "colab": {
          "base_uri": "https://localhost:8080/"
        },
        "id": "R8PgjE7Qyb7X",
        "outputId": "1b7cb34d-0a70-4834-b12b-b77982427db1"
      },
      "execution_count": 26,
      "outputs": [
        {
          "output_type": "execute_result",
          "data": {
            "text/plain": [
              "Counter({'fg': 3092,\n",
              "         'fh': 8362,\n",
              "         's': 69873,\n",
              "         'b': 15167,\n",
              "         '%': 3103,\n",
              "         'qy': 4986,\n",
              "         'qw': 1707,\n",
              "         'qrr': 392,\n",
              "         'h': 792,\n",
              "         'qr': 207,\n",
              "         'qo': 169,\n",
              "         'qh': 352})"
            ]
          },
          "metadata": {},
          "execution_count": 26
        }
      ]
    },
    {
      "cell_type": "code",
      "source": [
        "plt.title(\"General tags\")\n",
        "plt.bar(c.keys(), c.values())\n",
        "plt.show()"
      ],
      "metadata": {
        "colab": {
          "base_uri": "https://localhost:8080/",
          "height": 281
        },
        "id": "pqIGjyBByilb",
        "outputId": "5917f2d0-0446-421d-8028-f3de29e41036"
      },
      "execution_count": 27,
      "outputs": [
        {
          "output_type": "display_data",
          "data": {
            "text/plain": [
              "<Figure size 432x288 with 1 Axes>"
            ],
            "image/png": "[encoded data removed]"
          },
          "metadata": {
            "needs_background": "light"
          }
        }
      ]
    },
    {
      "cell_type": "code",
      "source": [
        "c = Counter(df[\"full_DA_tag\"])\n",
        "c"
      ],
      "metadata": {
        "colab": {
          "base_uri": "https://localhost:8080/"
        },
        "id": "ixCWr2NHymyl",
        "outputId": "7b26b7e9-3f07-466b-dbb6-3038b63f86d0"
      },
      "execution_count": 28,
      "outputs": [
        {
          "output_type": "execute_result",
          "data": {
            "text/plain": [
              "Counter({'fg': 3092,\n",
              "         'fh': 8362,\n",
              "         'rt': 3101,\n",
              "         's': 33472,\n",
              "         'e': 3200,\n",
              "         'b': 15013,\n",
              "         'bk': 7177,\n",
              "         '%': 3103,\n",
              "         'df': 3724,\n",
              "         'aa': 5898,\n",
              "         'd': 1805,\n",
              "         'na': 1112,\n",
              "         't1': 198,\n",
              "         'no': 828,\n",
              "         'bu': 2091,\n",
              "         'cs': 2662,\n",
              "         'aap': 219,\n",
              "         'ba': 2216,\n",
              "         'qw': 951,\n",
              "         'ng': 351,\n",
              "         'nd': 483,\n",
              "         'ar': 908,\n",
              "         'bsc': 150,\n",
              "         'co': 674,\n",
              "         'qy': 669,\n",
              "         'm': 293,\n",
              "         'qrr': 345,\n",
              "         '2': 841,\n",
              "         'h': 792,\n",
              "         'cc': 371,\n",
              "         'bs': 141,\n",
              "         'tc': 212,\n",
              "         'j': 463,\n",
              "         'r': 208,\n",
              "         'bh': 154,\n",
              "         'bd': 387,\n",
              "         't3': 165,\n",
              "         'fa': 259,\n",
              "         'fe': 307,\n",
              "         'arp': 150,\n",
              "         'ft': 119,\n",
              "         'f': 128,\n",
              "         't': 253,\n",
              "         'br': 236,\n",
              "         'qh': 214,\n",
              "         'am': 349,\n",
              "         'g': 87,\n",
              "         'qr': 127,\n",
              "         'bc': 51,\n",
              "         'by': 11,\n",
              "         'qo': 74,\n",
              "         'fw': 6})"
            ]
          },
          "metadata": {},
          "execution_count": 28
        }
      ]
    },
    {
      "cell_type": "code",
      "source": [
        "plt.figure(figsize=(15,8))\n",
        "plt.title(\"Full tags\")\n",
        "plt.bar(c.keys(), c.values())\n",
        "plt.show()"
      ],
      "metadata": {
        "colab": {
          "base_uri": "https://localhost:8080/",
          "height": 499
        },
        "id": "LPOnyAemysmr",
        "outputId": "532b0ced-115c-4563-a560-2e754a96ca87"
      },
      "execution_count": 32,
      "outputs": [
        {
          "output_type": "display_data",
          "data": {
            "text/plain": [
              "<Figure size 1080x576 with 1 Axes>"
            ],
            "image/png": "[encoded data removed]"
          },
          "metadata": {
            "needs_background": "light"
          }
        }
      ]
    },
    {
      "cell_type": "markdown",
      "source": [
        "# SWDA"
      ],
      "metadata": {
        "id": "dN-9eKI_vuCt"
      }
    },
    {
      "cell_type": "code",
      "source": [
        "direct = \"/content/drive/MyDrive/Colab Notebooks/\"\n",
        "with tarfile.open(direct + \"swb1_dialogact_annot.tar.gz\") as f:\n",
        "    f.extractall(direct + \"swb1_dialogact_annot\")"
      ],
      "metadata": {
        "id": "046xANfxvv8W"
      },
      "execution_count": 37,
      "outputs": []
    },
    {
      "cell_type": "code",
      "source": [
        "direct += \"swb1_dialogact_annot/\""
      ],
      "metadata": {
        "id": "kqqXJ-Dl3X8K"
      },
      "execution_count": 38,
      "outputs": []
    },
    {
      "cell_type": "code",
      "source": [
        "folders = os.listdir(direct)\n",
        "folders.remove(\"README\")\n",
        "folders.remove(\"doc\")\n",
        "folders"
      ],
      "metadata": {
        "colab": {
          "base_uri": "https://localhost:8080/"
        },
        "id": "KM-DEpQ43hTt",
        "outputId": "6b47e21e-92d8-4692-d2f3-7d3923c11d08"
      },
      "execution_count": 41,
      "outputs": [
        {
          "output_type": "execute_result",
          "data": {
            "text/plain": [
              "['sw00utt',\n",
              " 'sw01utt',\n",
              " 'sw02utt',\n",
              " 'sw03utt',\n",
              " 'sw04utt',\n",
              " 'sw05utt',\n",
              " 'sw06utt',\n",
              " 'sw07utt',\n",
              " 'sw08utt',\n",
              " 'sw09utt',\n",
              " 'sw10utt',\n",
              " 'sw11utt',\n",
              " 'sw12utt',\n",
              " 'sw13utt']"
            ]
          },
          "metadata": {},
          "execution_count": 41
        }
      ]
    },
    {
      "cell_type": "markdown",
      "source": [
        "Каждый диалог находится в отдельном файле, файлы сгруппированы по папкам. Помимо этого, в каждом файле есть предисловие на 33 строчки."
      ],
      "metadata": {
        "id": "wyZFBW3A9mjl"
      }
    },
    {
      "cell_type": "code",
      "source": [
        "files = list()\n",
        "dialogs = dict()\n",
        "num_of_dialogs = 0\n",
        "for i in range(len(folders)):\n",
        "    files = os.listdir(direct + folders[i])\n",
        "    if (\"words\" in files):\n",
        "        files.remove(\"words\")\n",
        "    if (\"\\x7f\" in files):\n",
        "        files.remove(\"\\x7f\")\n",
        "    num_of_dialogs += len(files)\n",
        "    dialogs[folders[i]] = files\n",
        "print(\"Общее количество диалогов: {}\".format(num_of_dialogs))"
      ],
      "metadata": {
        "colab": {
          "base_uri": "https://localhost:8080/"
        },
        "id": "r5c3L9894AfS",
        "outputId": "3cb53682-f4db-48ab-bda1-56110410aa55"
      },
      "execution_count": 56,
      "outputs": [
        {
          "output_type": "stream",
          "name": "stdout",
          "text": [
            "Общее количество диалогов: 1155\n"
          ]
        }
      ]
    },
    {
      "cell_type": "code",
      "source": [
        "with open(direct + list(dialogs.keys())[0] + '/' + dialogs[list(dialogs.keys())[0]][0], 'r') as f:\n",
        "    for line in f.readlines()[:54]:\n",
        "        print(line.rstrip())"
      ],
      "metadata": {
        "colab": {
          "base_uri": "https://localhost:8080/"
        },
        "id": "3M7eakIm_maa",
        "outputId": "d4673aa8-d45b-4f92-a721-ca52c9205322"
      },
      "execution_count": 91,
      "outputs": [
        {
          "output_type": "stream",
          "name": "stdout",
          "text": [
            "*x*x*x*x*x*x*x*x*x*x*x*x*x*x*x*x*x*x*x*x*x*x*x*x*x*x*x*x*x*x*x*x*x*x*x*x*x*\n",
            "*x*x*x*x*x*x*x*x*x*x*x*x*x*x*x*x*x*x*x*x*x*x*x*x*x*x*x*x*x*x*x*x*x*x*x*x*x*\n",
            "*x*                                                                     *x*\n",
            "*x*            Copyright (C) 1995 University of Pennsylvania            *x*\n",
            "*x*                                                                     *x*\n",
            "*x*    The data in this file are part of a preliminary version of the   *x*\n",
            "*x*    Penn Treebank Corpus and should not be redistributed.  Any       *x*\n",
            "*x*    research using this corpus or based on it should acknowledge     *x*\n",
            "*x*    that fact, as well as the preliminary nature of the corpus.      *x*\n",
            "*x*                                                                     *x*\n",
            "*x*x*x*x*x*x*x*x*x*x*x*x*x*x*x*x*x*x*x*x*x*x*x*x*x*x*x*x*x*x*x*x*x*x*x*x*x*\n",
            "*x*x*x*x*x*x*x*x*x*x*x*x*x*x*x*x*x*x*x*x*x*x*x*x*x*x*x*x*x*x*x*x*x*x*x*x*x*\n",
            "\n",
            "\n",
            "FILENAME:\t4325_1632_1519\n",
            "TOPIC#:\t\t323\n",
            "DATE:\t\t920323\n",
            "TRANSCRIBER:\tglp\n",
            "UTT_CODER:\ttc\n",
            "DIFFICULTY:\t1\n",
            "TOPICALITY:\t3\n",
            "NATURALNESS:\t2\n",
            "ECHO_FROM_B:\t1\n",
            "ECHO_FROM_A:\t4\n",
            "STATIC_ON_A:\t1\n",
            "STATIC_ON_B:\t1\n",
            "BACKGROUND_A:\t1\n",
            "BACKGROUND_B:\t2\n",
            "REMARKS:        None.\n",
            "\n",
            "=========================================================================\n",
            "\n",
            "\n",
            "o          A.1 utt1: Okay.  /\n",
            "qw          A.1 utt2: {D So, }\n",
            "\n",
            "qy^d          B.2 utt1: [ [ I guess, +\n",
            "\n",
            "+          A.3 utt1: What kind of experience [ do you, + do you ] have, then with child care? /\n",
            "\n",
            "+          B.4 utt1: I think, ] + {F uh, } I wonder ] if that worked. /\n",
            "\n",
            "qy          A.5 utt1: Does it say something? /\n",
            "\n",
            "sd          B.6 utt1: I think it usually does.  /\n",
            "ad          B.6 utt2: You might try, {F uh, }  /\n",
            "h          B.6 utt3: I don't know,  /\n",
            "ad          B.6 utt4: hold it down a little longer,  /\n",
            "ad          B.6 utt5: {C and } see if it, {F uh, } -/\n",
            "\n",
            "aa          A.7 utt1: Okay <beep>.  /\n",
            "qy          A.7 utt2: <<long pause>> {D Well, }\n",
            "\n",
            "b          B.8 utt1: Okay  /\n"
          ]
        }
      ]
    },
    {
      "cell_type": "markdown",
      "source": [
        "Данные можно попробовать добыть следующим способом:"
      ],
      "metadata": {
        "id": "Z0wS_krbI9me"
      }
    },
    {
      "cell_type": "code",
      "source": [
        "current_dialog_path = ''\n",
        "current_line = ''\n",
        "temp = []\n",
        "for i in dialogs.keys():\n",
        "    for j in dialogs[i]:\n",
        "        current_dialog_path = direct + i + '/' + j\n",
        "        with open(current_dialog_path, 'r') as f:\n",
        "            for line in f.readlines()[33:54]:\n",
        "                current_line = line.rstrip()\n",
        "                if (len(current_line) == 0):\n",
        "                    continue\n",
        "                print(\"tag:\", end = '\\t\\t\\t\\t')\n",
        "                print(re.findall(\"^\\S+\", current_line)[0])\n",
        "                temp = re.findall(\"[A-Z]\\.\\d+\", current_line)[0].split('.')\n",
        "                print(\"speaker:\", end = '\\t\\t\\t')\n",
        "                print(temp[0])\n",
        "                print(\"total_utterance_number:\", end = '\\t\\t')\n",
        "                print(temp[1])\n",
        "                print(\"persons_utterance:\", end = '\\t\\t')\n",
        "                print(re.findall(\"utt\\d+\", current_line)[0], end = '\\n')\n",
        "                print(\"utterance:\", end = '\\t\\t\\t')\n",
        "                print(re.sub(\"^\\S+\\s*[A-Z]\\.\\d+\\s*utt\\d+:\\s*\", '', current_line), end = '\\n\\n')\n",
        "        break\n",
        "    break"
      ],
      "metadata": {
        "colab": {
          "base_uri": "https://localhost:8080/"
        },
        "id": "4mVzkGz6-uQw",
        "outputId": "facf7e15-f2dc-4b86-dec2-e5281d40bfd2"
      },
      "execution_count": 99,
      "outputs": [
        {
          "output_type": "stream",
          "name": "stdout",
          "text": [
            "tag:\t\t\t\to\n",
            "speaker:\t\t\tA\n",
            "total_utterance_number:\t\t1\n",
            "persons_utterance:\t\tutt1\n",
            "utterance:\t\t\tOkay.  /\n",
            "\n",
            "tag:\t\t\t\tqw\n",
            "speaker:\t\t\tA\n",
            "total_utterance_number:\t\t1\n",
            "persons_utterance:\t\tutt2\n",
            "utterance:\t\t\t{D So, }\n",
            "\n",
            "tag:\t\t\t\tqy^d\n",
            "speaker:\t\t\tB\n",
            "total_utterance_number:\t\t2\n",
            "persons_utterance:\t\tutt1\n",
            "utterance:\t\t\t[ [ I guess, +\n",
            "\n",
            "tag:\t\t\t\t+\n",
            "speaker:\t\t\tA\n",
            "total_utterance_number:\t\t3\n",
            "persons_utterance:\t\tutt1\n",
            "utterance:\t\t\tWhat kind of experience [ do you, + do you ] have, then with child care? /\n",
            "\n",
            "tag:\t\t\t\t+\n",
            "speaker:\t\t\tB\n",
            "total_utterance_number:\t\t4\n",
            "persons_utterance:\t\tutt1\n",
            "utterance:\t\t\tI think, ] + {F uh, } I wonder ] if that worked. /\n",
            "\n",
            "tag:\t\t\t\tqy\n",
            "speaker:\t\t\tA\n",
            "total_utterance_number:\t\t5\n",
            "persons_utterance:\t\tutt1\n",
            "utterance:\t\t\tDoes it say something? /\n",
            "\n",
            "tag:\t\t\t\tsd\n",
            "speaker:\t\t\tB\n",
            "total_utterance_number:\t\t6\n",
            "persons_utterance:\t\tutt1\n",
            "utterance:\t\t\tI think it usually does.  /\n",
            "\n",
            "tag:\t\t\t\tad\n",
            "speaker:\t\t\tB\n",
            "total_utterance_number:\t\t6\n",
            "persons_utterance:\t\tutt2\n",
            "utterance:\t\t\tYou might try, {F uh, }  /\n",
            "\n",
            "tag:\t\t\t\th\n",
            "speaker:\t\t\tB\n",
            "total_utterance_number:\t\t6\n",
            "persons_utterance:\t\tutt3\n",
            "utterance:\t\t\tI don't know,  /\n",
            "\n",
            "tag:\t\t\t\tad\n",
            "speaker:\t\t\tB\n",
            "total_utterance_number:\t\t6\n",
            "persons_utterance:\t\tutt4\n",
            "utterance:\t\t\thold it down a little longer,  /\n",
            "\n",
            "tag:\t\t\t\tad\n",
            "speaker:\t\t\tB\n",
            "total_utterance_number:\t\t6\n",
            "persons_utterance:\t\tutt5\n",
            "utterance:\t\t\t{C and } see if it, {F uh, } -/\n",
            "\n",
            "tag:\t\t\t\taa\n",
            "speaker:\t\t\tA\n",
            "total_utterance_number:\t\t7\n",
            "persons_utterance:\t\tutt1\n",
            "utterance:\t\t\tOkay <beep>.  /\n",
            "\n",
            "tag:\t\t\t\tqy\n",
            "speaker:\t\t\tA\n",
            "total_utterance_number:\t\t7\n",
            "persons_utterance:\t\tutt2\n",
            "utterance:\t\t\t<<long pause>> {D Well, }\n",
            "\n",
            "tag:\t\t\t\tb\n",
            "speaker:\t\t\tB\n",
            "total_utterance_number:\t\t8\n",
            "persons_utterance:\t\tutt1\n",
            "utterance:\t\t\tOkay  /\n",
            "\n"
          ]
        }
      ]
    },
    {
      "cell_type": "code",
      "source": [
        "columns = [\"tag\", \"speaker\", \"total_utt_num\", \"personal_utt_num\", \"utterance\"]"
      ],
      "metadata": {
        "id": "5R1f6Q8pJ09c"
      },
      "execution_count": null,
      "outputs": []
    },
    {
      "cell_type": "markdown",
      "source": [
        "Однако мне не очень понятно, стоит ли оно того. Несмотря на то, что тексты диалогов в общем и целом не содержат информации о какой-то узкой области, которую было бы трудно переводить, в них очень много служебных слов и символов по типу *{F uh, }*, и не очевидно, что с ними делать при переводе на русский язык."
      ],
      "metadata": {
        "id": "virE_02hJCK_"
      }
    },
    {
      "cell_type": "markdown",
      "source": [
        "Осталось вычислить среднюю длину диалога:"
      ],
      "metadata": {
        "id": "bTkm38sLLg99"
      }
    },
    {
      "cell_type": "code",
      "source": [
        "current_dialog_path = ''\n",
        "current_line = ''\n",
        "total_dialogs = 0\n",
        "total_utterances = 0\n",
        "current_utt = ''\n",
        "current_tag = ''\n",
        "tags_distribution = dict()\n",
        "print\n",
        "\n",
        "for i in dialogs.keys():\n",
        "    for j in dialogs[i]:\n",
        "        current_dialog_path = direct + i + '/' + j\n",
        "        with open(current_dialog_path, 'r') as f:\n",
        "            for line in f.readlines()[33:]:\n",
        "                current_line = line.rstrip()\n",
        "                if (len(current_line) == 0):\n",
        "                    continue\n",
        "                try:\n",
        "                    current_utt = re.findall(\"[A-Z]\\.\\d+\", current_line)[0].split('.')[1]\n",
        "                    current_tag = re.findall(\"^\\S+\", current_line)[0]\n",
        "                except IndexError:\n",
        "                    continue\n",
        "                if (current_tag in tags_distribution.keys()):\n",
        "                    tags_distribution[current_tag] += 1\n",
        "                else:\n",
        "                    tags_distribution[current_tag] = 1\n",
        "        total_utterances += int(current_utt)\n",
        "        total_dialogs += 1\n",
        "\n",
        "print(\"Общее количество диалогов: {}\".format(total_dialogs))\n",
        "print(\"Общее количество высказываний: {}\".format(total_utterances))\n",
        "print(\"Средняя длина диалога: {}\".format(total_utterances / total_dialogs))"
      ],
      "metadata": {
        "colab": {
          "base_uri": "https://localhost:8080/"
        },
        "id": "AXCzpy9KLlBM",
        "outputId": "6c3aae2c-8412-44c4-e30d-2848b6881b82"
      },
      "execution_count": 121,
      "outputs": [
        {
          "output_type": "stream",
          "name": "stdout",
          "text": [
            "Общее количество диалогов: 1155\n",
            "Общее количество высказываний: 125877\n",
            "Средняя длина диалога: 108.98441558441559\n"
          ]
        }
      ]
    },
    {
      "cell_type": "code",
      "source": [
        "plt.figure(figsize=(25,8))\n",
        "plt.title(\"SWDA tags\")\n",
        "plt.bar(tags_distribution.keys(), tags_distribution.values())\n",
        "plt.show()"
      ],
      "metadata": {
        "colab": {
          "base_uri": "https://localhost:8080/",
          "height": 430
        },
        "id": "kggIP_uNRGDD",
        "outputId": "a11349ec-29a4-4b08-b606-22155ecd437f"
      },
      "execution_count": 126,
      "outputs": [
        {
          "output_type": "display_data",
          "data": {
            "text/plain": [
              "<Figure size 1800x576 with 1 Axes>"
            ],
            "image/png": "[encoded data removed]"
          },
          "metadata": {
            "needs_background": "light"
          }
        }
      ]
    }
  ]
}